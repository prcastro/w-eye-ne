{
 "cells": [
  {
   "cell_type": "code",
   "execution_count": 3,
   "metadata": {
    "collapsed": true
   },
   "outputs": [],
   "source": [
    "import pandas as pd\n",
    "import json"
   ]
  },
  {
   "cell_type": "code",
   "execution_count": 14,
   "metadata": {
    "scrolled": true
   },
   "outputs": [
    {
     "data": {
      "text/plain": [
       "apple_pie                        dry_marsala\n",
       "baby_back_ribs                        malbec\n",
       "baklava                            sauternes\n",
       "beef_carpaccio                        merlot\n",
       "beef_tartare              cabernet_sauvignon\n",
       "beet_salad                          albarino\n",
       "beignets                pineau_des_charentes\n",
       "bibimbap                               water\n",
       "bread_pudding                      sauternes\n",
       "breakfast_burrito                      water\n",
       "bruschetta                         sauternes\n",
       "caesar_salad                      chardonnay\n",
       "cannoli                         vino_passito\n",
       "caprese_salad                     chardonnay\n",
       "carrot_cake                            water\n",
       "ceviche                            sauvignon\n",
       "cheese_plate                        riesling\n",
       "cheesecake                  cremant_de_loire\n",
       "chicken_curry                     chardonnay\n",
       "chicken_quesadilla                      wine\n",
       "chicken_wings             cabernet_sauvignon\n",
       "chocolate_cake                         water\n",
       "chocolate_mousse                       water\n",
       "churros                                water\n",
       "clam_chowder                           syrah\n",
       "club_sandwich                     chardonnay\n",
       "crab_cakes                         champagne\n",
       "creme_brulee                           vidal\n",
       "croque_madame                     pinot_gris\n",
       "cup_cakes                 cabernet_sauvignon\n",
       "                                ...         \n",
       "paella                              bordeaux\n",
       "pancakes                            brouilly\n",
       "panna_cotta                           barsac\n",
       "peking_duck                chambolle_musigny\n",
       "pho                                    water\n",
       "pizza                                 merlot\n",
       "pork_chop                             chitry\n",
       "poutine                                syrah\n",
       "prime_rib                 cabernet_sauvignon\n",
       "pulled_pork_sandwich                  chitry\n",
       "ramen                               bordeaux\n",
       "ravioli                                syrah\n",
       "red_velvet_cake                   pinot_gris\n",
       "risotto                           chardonnay\n",
       "samosa                                 water\n",
       "sashimi                   chardonnay_moscato\n",
       "scallops                          chardonnay\n",
       "seaweed_salad                    saint_aubin\n",
       "shrimp_and_grits         chardonnay_verdelho\n",
       "spaghetti_bolognese                    syrah\n",
       "spaghetti_carbonara                   merlot\n",
       "spring_rolls                       champagne\n",
       "steak                              zinfandel\n",
       "strawberry_shortcake                   vidal\n",
       "sushi                     chardonnay_moscato\n",
       "tacos                     cabernet_sauvignon\n",
       "takoyaki                   chablis_grand_cru\n",
       "tiramisu                              barsac\n",
       "tuna_tartare              chardonnay_moscato\n",
       "waffles                            champagne\n",
       "Length: 101, dtype: object"
      ]
     },
     "execution_count": 14,
     "metadata": {},
     "output_type": "execute_result"
    }
   ],
   "source": [
    "with open('./../data/food_wine.json') as batata:\n",
    "    a = json.load(batata)\n",
    "a = pd.Series(a)\n",
    "a"
   ]
  },
  {
   "cell_type": "code",
   "execution_count": 15,
   "metadata": {},
   "outputs": [
    {
     "data": {
      "text/plain": [
       "array(['dry_marsala', 'malbec', 'sauternes', 'merlot',\n",
       "       'cabernet_sauvignon', 'albarino', 'pineau_des_charentes', 'water',\n",
       "       'chardonnay', 'vino_passito', 'sauvignon', 'riesling',\n",
       "       'cremant_de_loire', 'wine', 'syrah', 'champagne', 'vidal',\n",
       "       'pinot_gris', 'anjou', 'coteaux_champenois', 'bordeaux', 'jerez',\n",
       "       'beaune', 'sake', 'zinfandel', 'cassis', 'barsac', 'fume_blanc',\n",
       "       'brouilly', 'chambolle_musigny', 'chitry', 'chardonnay_moscato',\n",
       "       'saint_aubin', 'chardonnay_verdelho', 'chablis_grand_cru'], dtype=object)"
      ]
     },
     "execution_count": 15,
     "metadata": {},
     "output_type": "execute_result"
    }
   ],
   "source": [
    "a.unique()"
   ]
  },
  {
   "cell_type": "code",
   "execution_count": 18,
   "metadata": {
    "scrolled": true
   },
   "outputs": [],
   "source": [
    "df = pd.DataFrame(columns=['name', 'url', 'price', 'image'])\n",
    "df['name'] = a.unique()\n",
    "df.to_csv('../data/wine_table.csv')"
   ]
  },
  {
   "cell_type": "code",
   "execution_count": null,
   "metadata": {
    "collapsed": true
   },
   "outputs": [],
   "source": []
  }
 ],
 "metadata": {
  "kernelspec": {
   "display_name": "Python 3",
   "language": "python",
   "name": "python3"
  },
  "language_info": {
   "codemirror_mode": {
    "name": "ipython",
    "version": 3
   },
   "file_extension": ".py",
   "mimetype": "text/x-python",
   "name": "python",
   "nbconvert_exporter": "python",
   "pygments_lexer": "ipython3",
   "version": "3.6.3"
  }
 },
 "nbformat": 4,
 "nbformat_minor": 2
}
