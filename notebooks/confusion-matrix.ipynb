{
 "cells": [
  {
   "cell_type": "code",
   "execution_count": 121,
   "metadata": {},
   "outputs": [],
   "source": [
    "import itertools\n",
    "import pandas as pd\n",
    "import numpy as np\n",
    "import json\n",
    "\n",
    "def loss_matrix(p=0.5):\n",
    "    foods = pd.Series(list(json.load(open(\"../data/classes.json\")).values()))\n",
    "    food_wine = json.load(open(\"../data/food_wine.json\"))\n",
    "    food_numbers = [(i, food) for i, food in enumerate(food_wine.keys())]\n",
    "\n",
    "    confusion_matrix = np.ones((101, 101))\n",
    "    confusion_matrix -= np.eye(101)\n",
    "    same_wine = np.zeros((101, 101))\n",
    "    for (i, f), (j, g) in itertools.combinations(food_numbers, 2):\n",
    "        if food_wine[f] == food_wine[g]:\n",
    "            same_wine[i, j] = 1\n",
    "            same_wine[j, i] = 1\n",
    "\n",
    "    result = confusion_matrix - p*same_wine\n",
    "    return result"
   ]
  }
 ],
 "metadata": {
  "kernelspec": {
   "display_name": "Python 3",
   "language": "python",
   "name": "python3"
  },
  "language_info": {
   "codemirror_mode": {
    "name": "ipython",
    "version": 3
   },
   "file_extension": ".py",
   "mimetype": "text/x-python",
   "name": "python",
   "nbconvert_exporter": "python",
   "pygments_lexer": "ipython3",
   "version": "3.6.3"
  }
 },
 "nbformat": 4,
 "nbformat_minor": 2
}
