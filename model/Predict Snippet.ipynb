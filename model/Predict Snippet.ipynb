{
 "cells": [
  {
   "cell_type": "code",
   "execution_count": 2,
   "metadata": {},
   "outputs": [
    {
     "name": "stderr",
     "output_type": "stream",
     "text": [
      "Using TensorFlow backend.\n"
     ]
    }
   ],
   "source": [
    "from sklearn.externals import joblib \n",
    "from keras.preprocessing import image\n",
    "from keras.applications.resnet50 import preprocess_input\n",
    "import numpy as np\n",
    "from keras.models import load_model"
   ]
  },
  {
   "cell_type": "code",
   "execution_count": 3,
   "metadata": {},
   "outputs": [],
   "source": [
    "class_dict = joblib.load(\"class_dict.pkl\")\n",
    "\n",
    "def get_label(output):\n",
    "    output = np.argmax(output)\n",
    "    return class_dict[output]"
   ]
  },
  {
   "cell_type": "code",
   "execution_count": 5,
   "metadata": {
    "collapsed": true
   },
   "outputs": [],
   "source": [
    "import json"
   ]
  },
  {
   "cell_type": "code",
   "execution_count": 7,
   "metadata": {},
   "outputs": [],
   "source": [
    "json.dump(class_dict, open(\"../data/classes.json\", \"w\"))"
   ]
  },
  {
   "cell_type": "code",
   "execution_count": 9,
   "metadata": {},
   "outputs": [
    {
     "data": {
      "text/plain": [
       "{'0': 'apple_pie',\n",
       " '1': 'baby_back_ribs',\n",
       " '10': 'bruschetta',\n",
       " '100': 'waffles',\n",
       " '11': 'caesar_salad',\n",
       " '12': 'cannoli',\n",
       " '13': 'caprese_salad',\n",
       " '14': 'carrot_cake',\n",
       " '15': 'ceviche',\n",
       " '16': 'cheese_plate',\n",
       " '17': 'cheesecake',\n",
       " '18': 'chicken_curry',\n",
       " '19': 'chicken_quesadilla',\n",
       " '2': 'baklava',\n",
       " '20': 'chicken_wings',\n",
       " '21': 'chocolate_cake',\n",
       " '22': 'chocolate_mousse',\n",
       " '23': 'churros',\n",
       " '24': 'clam_chowder',\n",
       " '25': 'club_sandwich',\n",
       " '26': 'crab_cakes',\n",
       " '27': 'creme_brulee',\n",
       " '28': 'croque_madame',\n",
       " '29': 'cup_cakes',\n",
       " '3': 'beef_carpaccio',\n",
       " '30': 'deviled_eggs',\n",
       " '31': 'donuts',\n",
       " '32': 'dumplings',\n",
       " '33': 'edamame',\n",
       " '34': 'eggs_benedict',\n",
       " '35': 'escargots',\n",
       " '36': 'falafel',\n",
       " '37': 'filet_mignon',\n",
       " '38': 'fish_and_chips',\n",
       " '39': 'foie_gras',\n",
       " '4': 'beef_tartare',\n",
       " '40': 'french_fries',\n",
       " '41': 'french_onion_soup',\n",
       " '42': 'french_toast',\n",
       " '43': 'fried_calamari',\n",
       " '44': 'fried_rice',\n",
       " '45': 'frozen_yogurt',\n",
       " '46': 'garlic_bread',\n",
       " '47': 'gnocchi',\n",
       " '48': 'greek_salad',\n",
       " '49': 'grilled_cheese_sandwich',\n",
       " '5': 'beet_salad',\n",
       " '50': 'grilled_salmon',\n",
       " '51': 'guacamole',\n",
       " '52': 'gyoza',\n",
       " '53': 'hamburger',\n",
       " '54': 'hot_and_sour_soup',\n",
       " '55': 'hot_dog',\n",
       " '56': 'huevos_rancheros',\n",
       " '57': 'hummus',\n",
       " '58': 'ice_cream',\n",
       " '59': 'lasagna',\n",
       " '6': 'beignets',\n",
       " '60': 'lobster_bisque',\n",
       " '61': 'lobster_roll_sandwich',\n",
       " '62': 'macaroni_and_cheese',\n",
       " '63': 'macarons',\n",
       " '64': 'miso_soup',\n",
       " '65': 'mussels',\n",
       " '66': 'nachos',\n",
       " '67': 'omelette',\n",
       " '68': 'onion_rings',\n",
       " '69': 'oysters',\n",
       " '7': 'bibimbap',\n",
       " '70': 'pad_thai',\n",
       " '71': 'paella',\n",
       " '72': 'pancakes',\n",
       " '73': 'panna_cotta',\n",
       " '74': 'peking_duck',\n",
       " '75': 'pho',\n",
       " '76': 'pizza',\n",
       " '77': 'pork_chop',\n",
       " '78': 'poutine',\n",
       " '79': 'prime_rib',\n",
       " '8': 'bread_pudding',\n",
       " '80': 'pulled_pork_sandwich',\n",
       " '81': 'ramen',\n",
       " '82': 'ravioli',\n",
       " '83': 'red_velvet_cake',\n",
       " '84': 'risotto',\n",
       " '85': 'samosa',\n",
       " '86': 'sashimi',\n",
       " '87': 'scallops',\n",
       " '88': 'seaweed_salad',\n",
       " '89': 'shrimp_and_grits',\n",
       " '9': 'breakfast_burrito',\n",
       " '90': 'spaghetti_bolognese',\n",
       " '91': 'spaghetti_carbonara',\n",
       " '92': 'spring_rolls',\n",
       " '93': 'steak',\n",
       " '94': 'strawberry_shortcake',\n",
       " '95': 'sushi',\n",
       " '96': 'tacos',\n",
       " '97': 'takoyaki',\n",
       " '98': 'tiramisu',\n",
       " '99': 'tuna_tartare'}"
      ]
     },
     "execution_count": 9,
     "metadata": {},
     "output_type": "execute_result"
    }
   ],
   "source": [
    "json.load(open(\"../data/classes.json\"))"
   ]
  },
  {
   "cell_type": "code",
   "execution_count": 11,
   "metadata": {},
   "outputs": [
    {
     "name": "stdout",
     "output_type": "stream",
     "text": [
      "panna_cotta\n"
     ]
    }
   ],
   "source": [
    "img_path = '/media/julia/5TB/Hackathon/data/food-101-keras/train/apple_pie/1818676.jpg'\n",
    "img = image.load_img(img_path, target_size=(224, 224))\n",
    "x = image.img_to_array(img)\n",
    "x = np.expand_dims(x, axis=0)\n",
    "x = preprocess_input(x)\n",
    "\n",
    "model_filename = \"resnet_food_v0.h5\"\n",
    "model = load_model(model_filename)\n",
    "#model.summary()\n",
    "out = model.predict(x)\n",
    "label = get_label(out)\n",
    "print(label)"
   ]
  }
 ],
 "metadata": {
  "kernelspec": {
   "display_name": "Python 3",
   "language": "python",
   "name": "python3"
  },
  "language_info": {
   "codemirror_mode": {
    "name": "ipython",
    "version": 3
   },
   "file_extension": ".py",
   "mimetype": "text/x-python",
   "name": "python",
   "nbconvert_exporter": "python",
   "pygments_lexer": "ipython3",
   "version": "3.6.3"
  }
 },
 "nbformat": 4,
 "nbformat_minor": 2
}
